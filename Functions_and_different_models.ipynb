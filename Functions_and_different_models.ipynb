import pandas as pd
import numpy as np
import scipy as sc
import seaborn
import matplotlib.pyplot as plt
from scipy.optimize import curve_fit
from scipy.ndimage.filters import gaussian_filter1d
#from scipy.ndimage import uniform_filter1d
from scipy.stats import beta
import sdeint
#!pip install kramersmoyal
from kramersmoyal import km
from sklearn.neighbors import KernelDensity
from scipy.stats import entropy

'''For calculations: use angular velocity omega = 2*pi*frequency



'''Necessary functions: De-trending, Estimation of KM-Coefficients, Calculation of Power mismatch, Calculation of c_2'''
'''Different models: 1: linear c_1 and epsilon, no c_2 and Delta_P
                     2: linear c_1,c_2 and epsilon,
                     3: cubic c_1(omega), state-dependent c_2 and epsilon
                     4: Calculation of c_2 from bivariate Fokker-Planck equation, linear c_1 and c_2, state-dependent noise   '''


data = (freq+50)/(2*np.pi)

'''Detrending of the time series:'''
def filter(data,sigma = 60):
  datafilter = gaussian_filter1d(data,sigma=sigma)
  retrurn datafilter

datafilter = filter(data,sigma = 60)
data_detrended = data - datafilter





